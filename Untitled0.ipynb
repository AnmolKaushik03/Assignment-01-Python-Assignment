{
  "nbformat": 4,
  "nbformat_minor": 0,
  "metadata": {
    "colab": {
      "provenance": [],
      "authorship_tag": "ABX9TyMfOHh/l/FG/4vhOcAKS8/T",
      "include_colab_link": true
    },
    "kernelspec": {
      "name": "python3",
      "display_name": "Python 3"
    },
    "language_info": {
      "name": "python"
    }
  },
  "cells": [
    {
      "cell_type": "markdown",
      "metadata": {
        "id": "view-in-github",
        "colab_type": "text"
      },
      "source": [
        "<a href=\"https://colab.research.google.com/github/AnmolKaushik03/Assignment-01-Python-Assignment/blob/main/Untitled0.ipynb\" target=\"_parent\"><img src=\"https://colab.research.google.com/assets/colab-badge.svg\" alt=\"Open In Colab\"/></a>"
      ]
    },
    {
      "cell_type": "markdown",
      "source": [
        "# **Python Assignment**"
      ],
      "metadata": {
        "id": "tAXDgQYx40pi"
      }
    },
    {
      "cell_type": "markdown",
      "source": [
        "**Q1. L is a list defined as L= [11, 12, 13, 14].**"
      ],
      "metadata": {
        "id": "K_wFu_zH4hXX"
      }
    },
    {
      "cell_type": "code",
      "execution_count": 1,
      "metadata": {
        "colab": {
          "base_uri": "https://localhost:8080/"
        },
        "id": "bSAlQBvD4dwL",
        "outputId": "68624fea-a3fc-41d0-d0b0-214a1c085018"
      },
      "outputs": [
        {
          "output_type": "stream",
          "name": "stdout",
          "text": [
            "List after adding 50 and 60: [11, 12, 13, 14, 50, 60]\n"
          ]
        }
      ],
      "source": [
        "# (i) Add 50 and 60 to L\n",
        "L = [11, 12, 13, 14]\n",
        "L.append(50)\n",
        "L.append(60)\n",
        "print(\"List after adding 50 and 60:\", L)"
      ]
    },
    {
      "cell_type": "code",
      "source": [
        "# (ii) Remove 11 and 13 from L\n",
        "L.remove(11)\n",
        "L.remove(13)\n",
        "print(\"List after removing 11 and 13:\", L)"
      ],
      "metadata": {
        "colab": {
          "base_uri": "https://localhost:8080/"
        },
        "id": "2HorQzyA5ZKP",
        "outputId": "8cc92529-2386-4420-c506-a1adcb31cc30"
      },
      "execution_count": 2,
      "outputs": [
        {
          "output_type": "stream",
          "name": "stdout",
          "text": [
            "List after removing 11 and 13: [12, 14, 50, 60]\n"
          ]
        }
      ]
    },
    {
      "cell_type": "code",
      "source": [
        "# (iii) Sort L in ascending order\n",
        "L.sort()\n",
        "print(\"List sorted in ascending order:\", L)"
      ],
      "metadata": {
        "colab": {
          "base_uri": "https://localhost:8080/"
        },
        "id": "CZxByRN_5d-a",
        "outputId": "6b44165c-b007-4fb8-fe25-68e35b1205c6"
      },
      "execution_count": 3,
      "outputs": [
        {
          "output_type": "stream",
          "name": "stdout",
          "text": [
            "List sorted in ascending order: [12, 14, 50, 60]\n"
          ]
        }
      ]
    },
    {
      "cell_type": "code",
      "source": [
        "# (iv) Sort L in descending order\n",
        "L.sort(reverse=True)\n",
        "print(\"List sorted in descending order:\", L)"
      ],
      "metadata": {
        "colab": {
          "base_uri": "https://localhost:8080/"
        },
        "id": "ICNh9Qq95mE6",
        "outputId": "2bcb90f0-ad3c-4a90-c0f3-4c64cfe870df"
      },
      "execution_count": 4,
      "outputs": [
        {
          "output_type": "stream",
          "name": "stdout",
          "text": [
            "List sorted in descending order: [60, 50, 14, 12]\n"
          ]
        }
      ]
    },
    {
      "cell_type": "code",
      "source": [
        "# (v) Search for 13 in L\n",
        "if 13 in L:\n",
        "    print(\"13 is present in the list.\")\n",
        "else:\n",
        "    print(\"13 is not present in the list.\")"
      ],
      "metadata": {
        "colab": {
          "base_uri": "https://localhost:8080/"
        },
        "id": "QfCv_5655p66",
        "outputId": "7dc01bc6-6bbb-43ba-a778-787959a2e316"
      },
      "execution_count": 5,
      "outputs": [
        {
          "output_type": "stream",
          "name": "stdout",
          "text": [
            "13 is not present in the list.\n"
          ]
        }
      ]
    },
    {
      "cell_type": "code",
      "source": [
        "# (vi) Count the number of elements present in L\n",
        "count = len(L)\n",
        "print(\"Number of elements in the list:\", count)"
      ],
      "metadata": {
        "colab": {
          "base_uri": "https://localhost:8080/"
        },
        "id": "KiJccwxe5qbS",
        "outputId": "644279af-fdbf-4f64-a958-9c2a9eda9706"
      },
      "execution_count": 6,
      "outputs": [
        {
          "output_type": "stream",
          "name": "stdout",
          "text": [
            "Number of elements in the list: 4\n"
          ]
        }
      ]
    },
    {
      "cell_type": "code",
      "source": [
        "# (vii) Sum all the elements in L\n",
        "sum_all = sum(L)\n",
        "print(\"Sum of all elements in the list:\", sum_all)"
      ],
      "metadata": {
        "colab": {
          "base_uri": "https://localhost:8080/"
        },
        "id": "3Qgg5wwF5zZC",
        "outputId": "9a057fb8-9a96-4d81-f4a2-84fb8c512bec"
      },
      "execution_count": 7,
      "outputs": [
        {
          "output_type": "stream",
          "name": "stdout",
          "text": [
            "Sum of all elements in the list: 136\n"
          ]
        }
      ]
    },
    {
      "cell_type": "code",
      "source": [
        "# (viii) Sum all ODD numbers in L\n",
        "sum_odd = sum([num for num in L if num % 2 != 0])\n",
        "print(\"Sum of all odd numbers in the list:\", sum_odd)\n",
        "\n",
        "# (ix) Sum all EVEN numbers in L\n",
        "sum_even = sum([num for num in L if num % 2 == 0])\n",
        "print(\"Sum of all even numbers in the list:\", sum_even)\n",
        "\n",
        "# (x) Sum all PRIME numbers in L\n",
        "def is_prime(n):\n",
        "    if n <= 1:\n",
        "        return False\n",
        "    for i in range(2, int(n**0.5) + 1):\n",
        "        if n % i == 0:\n",
        "            return False\n",
        "    return True\n",
        "\n",
        "sum_prime = sum([num for num in L if is_prime(num)])\n",
        "print(\"Sum of all prime numbers in the list:\", sum_prime)\n",
        "\n",
        "# (xi) Clear all the elements in L\n",
        "L.clear()\n",
        "print(\"List after clearing all elements:\", L)\n",
        "\n",
        "# (xii) Delete L\n",
        "del L\n",
        "print(\"List deleted.\")"
      ],
      "metadata": {
        "colab": {
          "base_uri": "https://localhost:8080/"
        },
        "id": "DuA_k6VM54lK",
        "outputId": "d67eeab6-a2e7-4603-e2ee-03ac7895b058"
      },
      "execution_count": 8,
      "outputs": [
        {
          "output_type": "stream",
          "name": "stdout",
          "text": [
            "Sum of all odd numbers in the list: 0\n",
            "Sum of all even numbers in the list: 136\n",
            "Sum of all prime numbers in the list: 0\n",
            "List after clearing all elements: []\n",
            "List deleted.\n"
          ]
        }
      ]
    },
    {
      "cell_type": "markdown",
      "source": [
        "**Q2. D is a dictionary defined as D= {1:5.6, 2:7.8, 3:6.6, 4:8.7, 5:7.7}.**"
      ],
      "metadata": {
        "id": "qgtKf16q6EYj"
      }
    },
    {
      "cell_type": "code",
      "source": [
        "# (i) Add new entry in D; key=8 and value is 8.8\n",
        "D = {1: 5.6, 2: 7.8, 3: 6.6, 4: 8.7, 5: 7.7}\n",
        "D[8] = 8.8\n",
        "print(\"Dictionary after adding new entry:\", D)\n",
        "\n",
        "\n",
        "# (ii) Remove key=2\n",
        "del D[2]\n",
        "print(\"Dictionary after removing key=2:\", D)\n",
        "\n",
        "\n",
        "# (iii) Check whether key=6 is present in D\n",
        "if 6 in D:\n",
        "    print(\"Key 6 is present in the dictionary.\")\n",
        "else:\n",
        "    print(\"Key 6 is not present in the dictionary.\")\n",
        "\n",
        "\n",
        "# (iv) Count the number of elements present in D\n",
        "count = len(D)\n",
        "print(\"Number of elements in the dictionary:\", count)\n",
        "\n",
        "\n",
        "# (v) Add all the values present in D\n",
        "sum_values = sum(D.values())\n",
        "print(\"Sum of all values in the dictionary:\", sum_values)\n",
        "\n",
        "\n",
        "# (vi) Update the value of key=3 to 7.1\n",
        "D[3] = 7.1\n",
        "print(\"Dictionary after updating value of key=3:\", D)\n",
        "\n",
        "\n",
        "# (vii) Clear the dictionary\n",
        "D.clear()\n",
        "print(\"Dictionary after clearing all elements:\", D)\n",
        "\n"
      ],
      "metadata": {
        "colab": {
          "base_uri": "https://localhost:8080/"
        },
        "id": "J-4HRWe96Lim",
        "outputId": "c6d34765-3744-4fc7-844a-3777c65d6163"
      },
      "execution_count": 9,
      "outputs": [
        {
          "output_type": "stream",
          "name": "stdout",
          "text": [
            "Dictionary after adding new entry: {1: 5.6, 2: 7.8, 3: 6.6, 4: 8.7, 5: 7.7, 8: 8.8}\n",
            "Dictionary after removing key=2: {1: 5.6, 3: 6.6, 4: 8.7, 5: 7.7, 8: 8.8}\n",
            "Key 6 is not present in the dictionary.\n",
            "Number of elements in the dictionary: 5\n",
            "Sum of all values in the dictionary: 37.4\n",
            "Dictionary after updating value of key=3: {1: 5.6, 3: 7.1, 4: 8.7, 5: 7.7, 8: 8.8}\n",
            "Dictionary after clearing all elements: {}\n"
          ]
        }
      ]
    },
    {
      "cell_type": "markdown",
      "source": [
        "**Q3. S1 is a set defined as S1= [10, 20, 30, 40, 50, 60].**\n",
        "\n",
        "**S2 is a set defined as S2= [40, 50, 60, 70, 80, 90].**"
      ],
      "metadata": {
        "id": "3ROhyqWq60Hs"
      }
    },
    {
      "cell_type": "code",
      "source": [
        "S1 = {10, 20, 30, 40, 50, 60}\n",
        "S2 = {40, 50, 60, 70, 80, 90}\n",
        "\n",
        "# (i) Add 55 and 66 in Set S1\n",
        "\n",
        "S1.add(55)\n",
        "S1.add(66)\n",
        "print(\"Set S1 after adding 55 and 66:\", S1)\n",
        "\n",
        "\n",
        "# (ii) Remove 10 and 30 from Set S1\n",
        "S1.remove(10)\n",
        "S1.remove(30)\n",
        "print(\"Set S1 after removing 10 and 30:\", S1)\n",
        "\n",
        "\n",
        "# (iii) Check whether 40 is present in S1\n",
        "if 40 in S1:\n",
        "    print(\"40 is present in Set S1.\")\n",
        "else:\n",
        "    print(\"40 is not present in Set S1.\")\n",
        "\n",
        "\n",
        "# (iv) Find the union between S1 and S2\n",
        "\n",
        "union_set = S1.union(S2)\n",
        "print(\"Union of Set S1 and S2:\", union_set)\n",
        "\n",
        "\n",
        "# (v) Find the intersection between S1 and S2\n",
        "intersection_set = S1.intersection(S2)\n",
        "print(\"Intersection of Set S1 and S2:\", intersection_set)\n",
        "\n",
        "\n",
        "# (vi) Find S1 - S2\n",
        "difference_set = S1 - S2\n",
        "print(\"Set S1 - S2:\", difference_set)\n",
        "\n"
      ],
      "metadata": {
        "colab": {
          "base_uri": "https://localhost:8080/"
        },
        "id": "z04w4Ujk7Eyr",
        "outputId": "bcbe130c-d5f7-4c80-fbf1-ca52ad3a9fbe"
      },
      "execution_count": 11,
      "outputs": [
        {
          "output_type": "stream",
          "name": "stdout",
          "text": [
            "Set S1 after adding 55 and 66: {50, 66, 20, 55, 40, 10, 60, 30}\n",
            "Set S1 after removing 10 and 30: {50, 66, 20, 55, 40, 60}\n",
            "40 is present in Set S1.\n",
            "Union of Set S1 and S2: {66, 70, 40, 80, 50, 20, 55, 90, 60}\n",
            "Intersection of Set S1 and S2: {40, 50, 60}\n",
            "Set S1 - S2: {66, 20, 55}\n"
          ]
        }
      ]
    },
    {
      "cell_type": "markdown",
      "source": [
        "**Q4. Write the following program.**"
      ],
      "metadata": {
        "id": "gTShGLOk8FJv"
      }
    },
    {
      "cell_type": "code",
      "source": [
        "import random\n",
        "\n",
        "# (i) Print 100 random strings whose length is between 6 and 8\n",
        "for _ in range(100):\n",
        "    string_length = random.randint(6, 8)\n",
        "    random_string = ''.join(random.choices('abcdefghijklmnopqrstuvwxyz', k=string_length))\n",
        "    print(random_string)\n"
      ],
      "metadata": {
        "id": "iZzlfPVX8J5O"
      },
      "execution_count": null,
      "outputs": []
    },
    {
      "cell_type": "code",
      "source": [
        "# (ii) Print all prime numbers between 600 and 800\n",
        "def is_prime(n):\n",
        "    if n <= 1:\n",
        "        return False\n",
        "    for i in range(2, int(n**0.5) + 1):\n",
        "        if n % i == 0:\n",
        "            return False\n",
        "    return True\n",
        "\n",
        "for num in range(600, 801):\n",
        "    if is_prime(num):\n",
        "        print(num)"
      ],
      "metadata": {
        "id": "gf3d-zyZ9Vv3"
      },
      "execution_count": null,
      "outputs": []
    },
    {
      "cell_type": "code",
      "source": [
        "# (iii) Print all numbers between 100 and 1000 that are divisible by 7 and 9\n",
        "for num in range(100, 1001):\n",
        "    if num % 7 == 0 and num % 9 == 0:\n",
        "        print(num)"
      ],
      "metadata": {
        "colab": {
          "base_uri": "https://localhost:8080/"
        },
        "id": "L6SKbeuS9pIX",
        "outputId": "fbd7a229-41e1-4ac1-9547-53e34ef92f86"
      },
      "execution_count": 18,
      "outputs": [
        {
          "output_type": "stream",
          "name": "stdout",
          "text": [
            "126\n",
            "189\n",
            "252\n",
            "315\n",
            "378\n",
            "441\n",
            "504\n",
            "567\n",
            "630\n",
            "693\n",
            "756\n",
            "819\n",
            "882\n",
            "945\n"
          ]
        }
      ]
    },
    {
      "cell_type": "markdown",
      "source": [
        "**Q5. WAP to create two lists of 10 random numbers between 10 and 30; Find**"
      ],
      "metadata": {
        "id": "U1P18sQm9u7u"
      }
    },
    {
      "cell_type": "code",
      "source": [
        "import random\n",
        "\n",
        "# Create two lists of 10 random numbers between 10 and 30\n",
        "list1 = random.sample(range(10, 31), 10)\n",
        "list2 = random.sample(range(10, 31), 10)\n",
        "\n",
        "print(\"List 1:\", list1)\n",
        "print(\"List 2:\", list2)\n",
        "\n",
        "# (i) Find common numbers in the two lists\n",
        "common_numbers = set(list1) & set(list2)\n",
        "print(\"Common numbers:\", common_numbers)\n",
        "\n",
        "# (ii) Find unique numbers in both lists\n",
        "unique_numbers = set(list1) ^ set(list2)\n",
        "print(\"Unique numbers:\", unique_numbers)\n",
        "\n",
        "# (iii) Find the minimum in both lists\n",
        "minimum_list1 = min(list1)\n",
        "minimum_list2 = min(list2)\n",
        "print(\"Minimum in List 1:\", minimum_list1)\n",
        "print(\"Minimum in List 2:\", minimum_list2)\n",
        "\n",
        "# (iv) Find the maximum in both lists\n",
        "maximum_list1 = max(list1)\n",
        "maximum_list2 = max(list2)\n",
        "print(\"Maximum in List 1:\", maximum_list1)\n",
        "print(\"Maximum in List 2:\", maximum_list2)\n",
        "\n",
        "# (v) Find the sum of both lists\n",
        "sum_lists = sum(list1) + sum(list2)\n",
        "print(\"Sum of both lists:\", sum_lists)\n"
      ],
      "metadata": {
        "colab": {
          "base_uri": "https://localhost:8080/"
        },
        "id": "3jKooKdF91ZS",
        "outputId": "18531f8e-8c7c-4579-8659-ac451f5c3844"
      },
      "execution_count": 19,
      "outputs": [
        {
          "output_type": "stream",
          "name": "stdout",
          "text": [
            "List 1: [12, 23, 29, 18, 20, 26, 13, 11, 27, 16]\n",
            "List 2: [23, 15, 22, 24, 28, 13, 17, 26, 20, 29]\n",
            "Common numbers: {13, 20, 23, 26, 29}\n",
            "Unique numbers: {11, 12, 15, 16, 17, 18, 22, 24, 27, 28}\n",
            "Minimum in List 1: 11\n",
            "Minimum in List 2: 13\n",
            "Maximum in List 1: 29\n",
            "Maximum in List 2: 29\n",
            "Sum of both lists: 412\n"
          ]
        }
      ]
    },
    {
      "cell_type": "markdown",
      "source": [
        "**Q6. WAP to create a list of 100 random numbers between 100 and 900. Count and print the:**"
      ],
      "metadata": {
        "id": "3nMteD78-OQH"
      }
    },
    {
      "cell_type": "code",
      "source": [
        "import random\n",
        "\n",
        "# Create a list of 100 random numbers between 100 and 900\n",
        "numbers_list = random.sample(range(100, 901), 100)\n",
        "\n",
        "# (i) Count and print all odd numbers\n",
        "odd_numbers = [num for num in numbers_list if num % 2 != 0]\n",
        "print(\"Odd numbers:\", odd_numbers)\n",
        "print(\"Count of odd numbers:\", len(odd_numbers))\n",
        "\n",
        "# (ii) Count and print all even numbers\n",
        "even_numbers = [num for num in numbers_list if num % 2 == 0]\n",
        "print(\"Even numbers:\", even_numbers)\n",
        "print(\"Count of even numbers:\", len(even_numbers))\n",
        "\n",
        "# (iii) Count and print all prime numbers\n",
        "def is_prime(n):\n",
        "    if n <= 1:\n",
        "        return False\n",
        "    for i in range(2, int(n**0.5) + 1):\n",
        "        if n % i == 0:\n",
        "            return False\n",
        "    return True\n",
        "\n",
        "prime_numbers = [num for num in numbers_list if is_prime(num)]\n",
        "print(\"Prime numbers:\", prime_numbers)\n",
        "print(\"Count of prime numbers:\", len(prime_numbers))\n"
      ],
      "metadata": {
        "colab": {
          "base_uri": "https://localhost:8080/"
        },
        "id": "p7crDSBM-Str",
        "outputId": "568e5bda-4cfb-4646-af36-1d6d668dbc3d"
      },
      "execution_count": 20,
      "outputs": [
        {
          "output_type": "stream",
          "name": "stdout",
          "text": [
            "Odd numbers: [639, 353, 479, 111, 833, 259, 225, 637, 513, 533, 293, 115, 515, 689, 557, 497, 623, 611, 821, 511, 567, 327, 737, 827, 217, 817, 683, 777, 247, 583, 367, 219, 253, 249, 311, 789, 469, 677, 699, 441, 887, 661, 735, 171, 763, 865, 579, 813, 571, 569, 421, 753]\n",
            "Count of odd numbers: 52\n",
            "Even numbers: [684, 602, 542, 330, 456, 634, 322, 104, 590, 306, 366, 552, 300, 796, 716, 526, 610, 792, 814, 824, 242, 788, 768, 530, 600, 200, 860, 732, 806, 736, 240, 490, 432, 596, 448, 862, 272, 442, 170, 356, 742, 762, 160, 194, 766, 822, 478, 628]\n",
            "Count of even numbers: 48\n",
            "Prime numbers: [353, 479, 293, 557, 821, 827, 683, 367, 311, 677, 887, 661, 571, 569, 421]\n",
            "Count of prime numbers: 15\n"
          ]
        }
      ]
    },
    {
      "cell_type": "markdown",
      "source": [
        "**Q7. D is a dictionary defined as D={1:\"One\",2:\"Two\",3:\"Three\",4:\"Four\", 5:\"Five\"}.**"
      ],
      "metadata": {
        "id": "rkp7K_Oo-qPT"
      }
    },
    {
      "cell_type": "code",
      "source": [
        "#WAP to read all the keys and values from dictionary and write to the file in the given below format.\n",
        "D = {1: \"One\", 2: \"Two\", 3: \"Three\", 4: \"Four\", 5: \"Five\"}\n",
        "\n",
        "\n",
        "with open(\"dictionary_output.txt\", \"w\") as file:\n",
        "    \n",
        "    for key, value in D.items():\n",
        "        \n",
        "        file.write(f\"{key}, {value}\\n\")\n",
        "\n",
        "print(\"Data written to the file successfully.\")\n"
      ],
      "metadata": {
        "colab": {
          "base_uri": "https://localhost:8080/"
        },
        "id": "-qj4jHiV-6Pz",
        "outputId": "b6b25c75-549a-4bcd-c875-bd6510dcc742"
      },
      "execution_count": 21,
      "outputs": [
        {
          "output_type": "stream",
          "name": "stdout",
          "text": [
            "Data written to the file successfully.\n"
          ]
        }
      ]
    },
    {
      "cell_type": "markdown",
      "source": [
        "**Q8. L is a list defined as L={\"One\",\"Two\",\"Three\",\"Four\",\"Five\"}**"
      ],
      "metadata": {
        "id": "GcTEmkvZ_Xi-"
      }
    },
    {
      "cell_type": "code",
      "source": [
        "#WAP to count the length of reach element from a list and write to the file in the given below format:\n",
        "L = [\"One\", \"Two\", \"Three\", \"Four\", \"Five\"]\n",
        "\n",
        "\n",
        "with open(\"list_length_output.txt\", \"w\") as file:\n",
        "    \n",
        "    for element in L:\n",
        "        \n",
        "        length = len(element)\n",
        "        \n",
        "        file.write(f\"{element}, {length}\\n\")\n",
        "\n",
        "print(\"Data written to the file successfully.\")\n"
      ],
      "metadata": {
        "colab": {
          "base_uri": "https://localhost:8080/"
        },
        "id": "Xqyiygk1_drC",
        "outputId": "b43c0ef8-9e60-4ad1-894e-bd4f1e4da01c"
      },
      "execution_count": 22,
      "outputs": [
        {
          "output_type": "stream",
          "name": "stdout",
          "text": [
            "Data written to the file successfully.\n"
          ]
        }
      ]
    },
    {
      "cell_type": "markdown",
      "source": [
        "**Q9. Write to the file 100 random strings whose length between 10 and 15**"
      ],
      "metadata": {
        "id": "_6YLlZM6_vxp"
      }
    },
    {
      "cell_type": "code",
      "source": [
        "import random\n",
        "import string\n",
        "\n",
        "\n",
        "with open(\"random_strings.txt\", \"w\") as file:\n",
        "    \n",
        "    for _ in range(100):\n",
        "        string_length = random.randint(10, 15)\n",
        "        random_string = ''.join(random.choices(string.ascii_lowercase, k=string_length))\n",
        "        file.write(random_string + \"\\n\")\n",
        "\n",
        "print(\"Random strings written to the file successfully.\")\n"
      ],
      "metadata": {
        "colab": {
          "base_uri": "https://localhost:8080/"
        },
        "id": "LZqUb918AE2a",
        "outputId": "c03c4ced-693d-43e9-e593-f28ed5f88f9b"
      },
      "execution_count": 23,
      "outputs": [
        {
          "output_type": "stream",
          "name": "stdout",
          "text": [
            "Random strings written to the file successfully.\n"
          ]
        }
      ]
    },
    {
      "cell_type": "markdown",
      "source": [
        "**Q10. Write to the file all prime numbers between 600 and 800.**"
      ],
      "metadata": {
        "id": "wjmWm3t8Ader"
      }
    },
    {
      "cell_type": "code",
      "source": [
        "# Function to check if a number is prime\n",
        "def is_prime(n):\n",
        "    if n < 2:\n",
        "        return False\n",
        "    for i in range(2, int(n ** 0.5) + 1):\n",
        "        if n % i == 0:\n",
        "            return False\n",
        "    return True\n",
        "\n",
        "\n",
        "with open(\"prime_numbers.txt\", \"w\") as file:\n",
        "    \n",
        "    for num in range(600, 801):\n",
        "        if is_prime(num):\n",
        "            \n",
        "            file.write(str(num) + \"\\n\")\n",
        "\n",
        "print(\"Prime numbers written to the file successfully.\")\n"
      ],
      "metadata": {
        "colab": {
          "base_uri": "https://localhost:8080/"
        },
        "id": "VjicoanmAhz7",
        "outputId": "c19cc907-9665-48fb-ae0b-c093a28f4c5d"
      },
      "execution_count": 24,
      "outputs": [
        {
          "output_type": "stream",
          "name": "stdout",
          "text": [
            "Prime numbers written to the file successfully.\n"
          ]
        }
      ]
    }
  ]
}